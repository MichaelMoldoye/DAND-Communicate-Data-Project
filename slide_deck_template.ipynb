{
 "cells": [
  {
   "cell_type": "markdown",
   "metadata": {
    "slideshow": {
     "slide_type": "slide"
    }
   },
   "source": [
    "# Kickstarter Campaigns and their Attributes\n",
    "## by Michael Mosin"
   ]
  },
  {
   "cell_type": "markdown",
   "metadata": {
    "slideshow": {
     "slide_type": "slide"
    }
   },
   "source": [
    "## Investigation Overview\n",
    "\n",
    "In this investigation, I wanted to look at the various attributes available about Kickstarter Project Campaigns, and explore their relationship to campaign outcomes - success, and various degrees of failure. The main focus was on the number of backers, the proportion of the funding goal that was achieved, whether the project was a Staff Pick, and average donation per backer. Project categories and their relationships with these variables were also explored.\n",
    "\n",
    "## Dataset Overview\n",
    "\n",
    "The original data consisted of approximately 3786 projects and 37 variables. It was reduced to 3669 projects with the removal of projects that were still 'live' and therefore yet to have a defined outcome. The proportion-of-goal-funded variable was contructed from the variables 'goal' and 'pledged,' while project categories and subcategories were extracted from an originally untidy 'category' variable. There were also variables related to the length of time the project existed."
   ]
  },
  {
   "cell_type": "code",
   "execution_count": null,
   "metadata": {
    "slideshow": {
     "slide_type": "skip"
    }
   },
   "outputs": [],
   "source": [
    "# import all packages and set plots to be embedded inline\n",
    "import numpy as np\n",
    "import pandas as pd\n",
    "import matplotlib.pyplot as plt\n",
    "import seaborn as sb\n",
    "\n",
    "%matplotlib inline\n",
    "\n",
    "# suppress warnings from final output\n",
    "import warnings\n",
    "warnings.simplefilter(\"ignore\")"
   ]
  },
  {
   "cell_type": "code",
   "execution_count": null,
   "metadata": {
    "slideshow": {
     "slide_type": "skip"
    }
   },
   "outputs": [],
   "source": [
    "# load in the dataset into a pandas dataframe\n",
    "campaigns = pd.read_csv('final_dataset.csv')"
   ]
  },
  {
   "cell_type": "markdown",
   "metadata": {
    "slideshow": {
     "slide_type": "slide"
    }
   },
   "source": [
    "## Distribution of Project Campaign States\n",
    "\n",
    "First and foremost, it would be appropriate to become familiar with the distribution of campaign outcomes. Doing so we learned that a majority of campaigns are indeed successful."
   ]
  },
  {
   "cell_type": "code",
   "execution_count": null,
   "metadata": {
    "slideshow": {
     "slide_type": "subslide"
    }
   },
   "outputs": [],
   "source": [
    "base_color = sb.color_palette()[0]\n",
    "ax = sb.countplot(data = campaigns, x = 'state', color = base_color);\n",
    "plt.title('Counts of Campaign Outcomes')\n",
    "plt.xlabel('Final Campaign State')\n",
    "plt.ylabel('Count')\n",
    "for p in ax.patches:\n",
    "    height = p.get_height()\n",
    "    ax.text(p.get_x()+p.get_width()/2.,\n",
    "            height + 20,\n",
    "            '{:.0f}'.format(height),\n",
    "            ha = 'center')\n",
    "plt.show();"
   ]
  },
  {
   "cell_type": "markdown",
   "metadata": {
    "slideshow": {
     "slide_type": "slide"
    }
   },
   "source": [
    "## Number of Backers per Campaign\n",
    "\n",
    "Now, the question on my mind was, \"How many people does it take to successfully or unsuccessfully fund a campaign?\"\n",
    "\n",
    "Originally, the data displayed a VERY wide exponential distribution of backers skewed by many projects having zero or few backers, and by a few outlier projects with tens of thousands of backers. \n",
    "\n",
    "This led to conducting a log transformation of the x-scale, which demonstrated a bimodal distribution - around 0 to 1 backers for the unsuccessful campaigns, and around 40 to 60 backers for the successful campaigns."
   ]
  },
  {
   "cell_type": "code",
   "execution_count": null,
   "metadata": {
    "slideshow": {
     "slide_type": "subslide"
    }
   },
   "outputs": [],
   "source": [
    "df_successful = campaigns[campaigns['successful']==True]\n",
    "df_notsuccess = campaigns[campaigns['successful']==False]\n",
    "\n",
    "log_binsize = 0.1\n",
    "bins = 10 ** np.arange(0, np.log10(df_successful['backers_count'].max())+log_binsize, log_binsize)\n",
    "\n",
    "plt.figure(figsize=[8, 5])\n",
    "plt.hist(data = df_successful, x = 'backers_count', bins = bins, alpha=0.5, label='Successful')\n",
    "plt.hist(data = df_notsuccess, x = 'backers_count', bins = bins, alpha=0.5, label='Not Successful')\n",
    "plt.xscale('log')\n",
    "plt.xticks([1, 3, 10, 30, 100, 300, 1e3, 3e3, 1e4, 3e4], [1, 3, 10, 30, 100, 300, '1k', '3k', '10k', '30k'])\n",
    "plt.xlabel('Number of Backers')\n",
    "plt.ylabel('Number of Projects')\n",
    "plt.title('Log Transformed Histogram of Number of Backers\\n(exclusive of zero)')\n",
    "plt.legend(loc='upper right')\n",
    "plt.show();"
   ]
  },
  {
   "cell_type": "markdown",
   "metadata": {
    "slideshow": {
     "slide_type": "slide"
    }
   },
   "source": [
    "## Distribution of Final Funding as Proportion of Goal\n",
    "\n",
    "Next: What do the distributions of funding proportions look like for successful and unsuccessful campaigns?\n",
    "\n",
    "Final Funding as Proportion of Goal = pledged amount / goal amount.\n",
    "\n",
    "Since a successful campaign is defined as one which met its funding goal, then it comes as no surprise that the split occurs at the proportion of \"1\": all campaigns inclusive and higher are successful, all below - not so much.\n",
    "\n",
    "What is interesting is the exponential nature of both segments. I did conduct a log transform but it still left a curving exponential distribution due to the large range of successful proportions and the large density of campaigns with proportion values of 0 and 1."
   ]
  },
  {
   "cell_type": "code",
   "execution_count": null,
   "metadata": {
    "slideshow": {
     "slide_type": "subslide"
    }
   },
   "outputs": [],
   "source": [
    "binsize = 0.1\n",
    "bins = np.arange(0, 5+binsize, binsize)\n",
    "\n",
    "plt.figure(figsize=[8, 5])\n",
    "plt.hist(data = df_successful, x = 'funded_prop', bins = bins, alpha=0.8, label='Successful')\n",
    "plt.hist(data = df_notsuccess, x = 'funded_prop', bins = bins, alpha=0.8, label='Not Successful')\n",
    "plt.xlabel('Final Funding as Proportion of Goal')\n",
    "plt.ylabel('Number of Projects')\n",
    "plt.title('Histograms for Final Funding as Proportion of Goal')\n",
    "plt.legend(loc='upper right')\n",
    "plt.show()"
   ]
  },
  {
   "cell_type": "markdown",
   "metadata": {
    "slideshow": {
     "slide_type": "slide"
    }
   },
   "source": [
    "## Staff Pick versus State of Campaign\n",
    "\n",
    "Staff Pick is a means of playing favorites, I presume, so perhaps there is an effect on success should a project be deemed worthy of the designation.\n",
    "\n",
    "Based on the following bar charts, it does appear that project which are selected as Staff Picks are more likely to succeed than those that aren't. In fact, almost a fifth of successful campaigns are designated as Staff Pick. Of course, there were a few Staff Picks that failed or were suspended."
   ]
  },
  {
   "cell_type": "code",
   "execution_count": null,
   "metadata": {
    "slideshow": {
     "slide_type": "subslide"
    }
   },
   "outputs": [],
   "source": [
    "table=pd.crosstab(campaigns.staff_pick,campaigns.state)\n",
    "table.div(table.sum(1).astype(float), axis=0).plot(kind='bar', stacked=True)\n",
    "plt.title('Stacked Bar Chart of Staff Pick vs State of Campaign')\n",
    "plt.xlabel('Staff Pick')\n",
    "plt.ylabel('Proportion of Campaigns');\n",
    "plt.show();\n",
    "\n",
    "ax = sb.countplot(data = campaigns, x = 'state', hue = 'staff_pick', order = campaigns['state'].value_counts().index)\n",
    "n_points = campaigns['state'].value_counts()\n",
    "i=0\n",
    "for p in ax.patches[0:7]:\n",
    "    if i >= 4:\n",
    "        i = 0\n",
    "        height = p.get_height()\n",
    "        ax.text(p.get_x()+p.get_width()/2., height + 5, '{:.2f}'.format(height/n_points[i]), ha = 'center')\n",
    "        i += 1\n",
    "    else:\n",
    "        height = p.get_height()\n",
    "        ax.text(p.get_x()+p.get_width()/2., height + 5, '{:.2f}'.format(height/n_points[i]), ha = 'center')\n",
    "        i +=1\n",
    "plt.title('FInal Project State split by Staff Pick\\n(intra-categorical proportions over bars)')\n",
    "plt.xlabel('Final Project State')\n",
    "plt.ylabel('Count')\n",
    "plt.show();"
   ]
  },
  {
   "cell_type": "markdown",
   "metadata": {
    "slideshow": {
     "slide_type": "slide"
    }
   },
   "source": [
    "## Differences in Success Rates Among Main Project Categories\n",
    "\n",
    "Okay, so we have looked at backers, funding, and Staff Pick. My consequent interest was in seeing how projects in different categories differ between each other in terms of successfully acheiving funding goals.\n",
    "\n",
    "As it turns out, projects in the Music, Technology, Publishing, and Theater categories are popular among both creators and backers. \n",
    "\n",
    "However, even some less common categories have relatively similar success rates, if not better: Comics, Fashion, Film & Video, Art, Photography. \n",
    "\n",
    "A few that are less successful are Food, Crafts, Dance, Games, Design, Journalism."
   ]
  },
  {
   "cell_type": "code",
   "execution_count": null,
   "metadata": {
    "slideshow": {
     "slide_type": "subslide"
    }
   },
   "outputs": [],
   "source": [
    "plt.figure(figsize=[15, 5])\n",
    "ax = sb.countplot(data = campaigns, x = 'main_cat', hue = 'successful', order= campaigns['main_cat'].value_counts().index);\n",
    "loc, labels = plt.xticks()\n",
    "ax.set_xticklabels(labels, rotation=45);\n",
    "handles, labels = ax.get_legend_handles_labels()\n",
    "ax.legend(handles[::-1], labels[::-1], title='Line', loc='upper right')\n",
    "n_points = campaigns['main_cat'].value_counts()\n",
    "i=0\n",
    "for p in ax.patches:\n",
    "    if i >= 15:\n",
    "        i = 0\n",
    "        height = p.get_height()\n",
    "        ax.text(p.get_x()+p.get_width()/2., height + 5, '{:.2f}'.format(height/n_points[i]), ha = 'center')\n",
    "        i += 1\n",
    "    else:\n",
    "        height = p.get_height()\n",
    "        ax.text(p.get_x()+p.get_width()/2., height + 5, '{:.2f}'.format(height/n_points[i]), ha = 'center')\n",
    "        i +=1\n",
    "plt.title('Main Project Categories Split by Success\\n(intra-categorical proportions over bars)')\n",
    "plt.xlabel('Main Project Categories')\n",
    "plt.ylabel('Count')\n",
    "plt.show();"
   ]
  },
  {
   "cell_type": "markdown",
   "metadata": {
    "slideshow": {
     "slide_type": "slide"
    }
   },
   "source": [
    "## Distribution of Main Project Categories relative to Funded Ratio\n",
    "\n",
    "We saw the categories split by rates of success. Now, we can check the spread of where they fall in terms of meeting or exceeding their funding goal.\n",
    "\n",
    "In the associated graph, looking at the median point for the boxplots relative to the \"1\" point on the y-axis, we can see the proportion of projects within each Main Category which met their goal or didn't. Since meeting one's funding goal (getting at least \"1\" for the funding proportion) defines a Kickstarter campaign success, we can see whether a majority of campaigns succeeded or failed."
   ]
  },
  {
   "cell_type": "code",
   "execution_count": null,
   "metadata": {
    "slideshow": {
     "slide_type": "subslide"
    }
   },
   "outputs": [],
   "source": [
    "plt.figure(figsize=[15, 10])\n",
    "ax = sb.boxplot(x='main_cat', y='funded_prop', data=campaigns, color=base_color, order = campaigns['main_cat'].value_counts().index)\n",
    "loc, labels = plt.xticks()\n",
    "ax.set_xticklabels(labels, rotation=45);\n",
    "plt.title('Distributions of Main Project Categories relative to their Funding Goal Ratio')\n",
    "plt.xlabel('Main Project Categories')\n",
    "plt.ylabel('Final Funding as Proportion of Goal')\n",
    "plt.ylim(-0.25,7);"
   ]
  },
  {
   "cell_type": "markdown",
   "metadata": {
    "slideshow": {
     "slide_type": "slide"
    }
   },
   "source": [
    "## Spread of projects by their Final State, relative to Proportion of Goal Funded and Number of Backers:\n",
    "\n",
    "This visualization displays what is to be expected at this point: campaigns that met or exceeded their goal (proportion funded >= 1) are successful. Those that were not able to do so were not successful."
   ]
  },
  {
   "cell_type": "code",
   "execution_count": null,
   "metadata": {
    "slideshow": {
     "slide_type": "subslide"
    }
   },
   "outputs": [],
   "source": [
    "sb.pairplot(x_vars=['funded_prop'], y_vars=['backers_count'], data=campaigns, hue = 'state', height = 6);\n",
    "plt.xlim([0,4]);\n",
    "plt.ylim([0,1800]);\n",
    "plt.title('Spread of Projects relative to Funding Proportion and Number of Backers\\nSplit by Final State')\n",
    "plt.ylabel('Number of Backers')\n",
    "plt.xlabel('Final Funding as Proportion of Goal');"
   ]
  },
  {
   "cell_type": "markdown",
   "metadata": {
    "slideshow": {
     "slide_type": "slide"
    }
   },
   "source": [
    "## Comparing spread of projects by their Success relative to Average Donation and Number of Backers - Technology vs Games:\n",
    "\n",
    "I selected these two categories because they were relative opposites in terms of proportion of successful projects. \n",
    "\n",
    "In both cases, the data is very spread out, even after zooming in upon a decently dense area. There is a slight impression that the fewer backers a project has, the less likely it will be successful, even with high average donations."
   ]
  },
  {
   "cell_type": "code",
   "execution_count": null,
   "metadata": {
    "slideshow": {
     "slide_type": "subslide"
    }
   },
   "outputs": [],
   "source": [
    "sb.pairplot(x_vars=['avg_donation'], y_vars=['backers_count'], \n",
    "                data=campaigns[campaigns['main_cat']=='Technology'], \n",
    "                hue = 'successful', height = 6);\n",
    "plt.xlim([0,500])\n",
    "plt.ylim([0,1200])\n",
    "plt.title('Technology Projects: Success Relative to\\nAverage Donation vs Number of Backers')\n",
    "plt.xlabel('Average Donation')\n",
    "plt.ylabel('Number of Backers')\n",
    "\n",
    "sb.pairplot(x_vars=['avg_donation'], y_vars=['backers_count'], \n",
    "                data=campaigns[campaigns['main_cat']=='Games'], \n",
    "                hue = 'successful', height = 6);\n",
    "plt.xlim([0,200])\n",
    "plt.ylim([0,600])\n",
    "plt.title('Games Projects: Success Relative to\\nAverage Donation vs Number of Backers')\n",
    "plt.xlabel('Average Donation')\n",
    "plt.ylabel('Number of Backers')\n",
    "\n",
    "plt.show();"
   ]
  },
  {
   "cell_type": "markdown",
   "metadata": {
    "slideshow": {
     "slide_type": "notes"
    }
   },
   "source": [
    "> Once you're ready to finish your presentation, check your output by using\n",
    "nbconvert to export the notebook and set up a server for the slides. From the\n",
    "terminal or command line, use the following expression:\n",
    "> > `jupyter nbconvert <file_name>.ipynb --to slides --post serve --template output_toggle`\n",
    "\n",
    "> This should open a tab in your web browser where you can scroll through your\n",
    "presentation. Sub-slides can be accessed by pressing 'down' when viewing its parent\n",
    "slide. Make sure you remove all of the quote-formatted guide notes like this one\n",
    "before you finish your presentation!"
   ]
  }
 ],
 "metadata": {
  "celltoolbar": "Slideshow",
  "kernelspec": {
   "display_name": "Python 3",
   "language": "python",
   "name": "python3"
  },
  "language_info": {
   "codemirror_mode": {
    "name": "ipython",
    "version": 3
   },
   "file_extension": ".py",
   "mimetype": "text/x-python",
   "name": "python",
   "nbconvert_exporter": "python",
   "pygments_lexer": "ipython3",
   "version": "3.7.3"
  }
 },
 "nbformat": 4,
 "nbformat_minor": 2
}
