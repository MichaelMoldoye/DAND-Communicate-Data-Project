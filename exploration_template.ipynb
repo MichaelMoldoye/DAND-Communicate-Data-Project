{
 "cells": [
  {
   "cell_type": "markdown",
   "metadata": {},
   "source": [
    "# Exploring Kickstarter Project Data\n",
    "## by Michael Mosin\n",
    "\n",
    "## Preliminary Wrangling\n",
    "\n",
    "This document explores a dataset comprised of various attributes for an assortment of 3786 Kickstarter projects"
   ]
  },
  {
   "cell_type": "code",
   "execution_count": null,
   "metadata": {},
   "outputs": [],
   "source": [
    "# import all packages and set plots to be embedded inline\n",
    "import numpy as np\n",
    "import pandas as pd\n",
    "import matplotlib.pyplot as plt\n",
    "import seaborn as sb\n",
    "\n",
    "%matplotlib inline"
   ]
  },
  {
   "cell_type": "code",
   "execution_count": null,
   "metadata": {},
   "outputs": [],
   "source": [
    "# Import dataset\n",
    "# Dataset downloaded from CSV link under \"2019-05-16\" on site: https://webrobots.io/kickstarter-datasets/\n",
    "df = pd.read_csv('Kickstarter.csv')"
   ]
  },
  {
   "cell_type": "code",
   "execution_count": null,
   "metadata": {},
   "outputs": [],
   "source": [
    "# Adding ability to view all dataframe columns\n",
    "# as per https://stackoverflow.com/questions/49188960/how-to-show-all-of-columns-name-on-pandas-dataframe/49189503\n",
    "pd.set_option('display.max_columns', None)\n",
    "df.head()"
   ]
  },
  {
   "cell_type": "code",
   "execution_count": null,
   "metadata": {},
   "outputs": [],
   "source": [
    "df.info()"
   ]
  },
  {
   "cell_type": "code",
   "execution_count": null,
   "metadata": {},
   "outputs": [],
   "source": [
    "df.duplicated().value_counts()"
   ]
  },
  {
   "cell_type": "code",
   "execution_count": null,
   "metadata": {},
   "outputs": [],
   "source": [
    "# Make copy of main dataframe so as to keep original data intact.\n",
    "df_copy = df.copy()\n",
    "df_copy.shape"
   ]
  },
  {
   "cell_type": "markdown",
   "metadata": {},
   "source": [
    "## Tracking Data Quality and Tidiness Issues:\n",
    "\n",
    "### Quality:\n",
    "\n",
    "- Variables \"friends\", \"is_backing\", \"is_starred\", and \"permissions\" only have one entry and should be dropped\n",
    "- Per https://help.kickstarter.com/hc/en-us/articles/115005135834-What-is-Spotlight-:\n",
    "    - Variable 'spotlight' should be dropped, since it only applies to successful projects after the fact, and is thus not a predictor of anything.\n",
    "- Variables \"created_at\", \"deadline\", \"launched_at\", and \"state_changed_at\" are set in unix time instead of readable datetime\n",
    "- Variables with financial values such as \"converted_pledged_amount\", \"goal\", \"pledged\", and \"usd_pledged\" are set to different decimal places, and should be rounded to at most two decimal places\n",
    "\n",
    "- Only two entries are missing data for \"location\" (not a big deal, given that we have \"country\" data; these)\n",
    "- Only eleven entries are missing data for \"usd_type\" (this variable is not important to the investigation)\n",
    "\n",
    "### Tidiness:\n",
    "\n",
    "- Data entries in the columns \"category\", \"creator\", \"location\", \"photo\", \"profile\", and \"urls\" contain multiple pieces of information. If separated, they could be their own dataframes or made into additional columns in the main dataframe.\n",
    "    - The \"category\" variable can garner category and sub-category info for the projects\n",
    "    - The \"location\" variable can garner data regarding the project's state name, city name, and city type\n",
    "    - The \"creator\",\"photo\", \"profile\", \"urls\" variables have no data that is relevant to this project and should be dropped\n"
   ]
  },
  {
   "cell_type": "markdown",
   "metadata": {},
   "source": [
    "## Addressing Data Quality and Tidiness Issues"
   ]
  },
  {
   "cell_type": "markdown",
   "metadata": {},
   "source": [
    "### Quality: \n",
    "\n",
    "#### Remove (essentially) empty columns and 'spotlight'"
   ]
  },
  {
   "cell_type": "code",
   "execution_count": null,
   "metadata": {},
   "outputs": [],
   "source": [
    "df_copy = df_copy.drop(columns = [\"friends\", \"is_backing\", \"is_starred\", \"permissions\", \"spotlight\"])\n",
    "df_copy.shape"
   ]
  },
  {
   "cell_type": "markdown",
   "metadata": {},
   "source": [
    "#### Fix time categories"
   ]
  },
  {
   "cell_type": "code",
   "execution_count": null,
   "metadata": {},
   "outputs": [],
   "source": [
    "# Converting unix time to readable date-time\n",
    "# as per https://stackoverflow.com/questions/19231871/convert-unix-time-to-readable-date-in-pandas-dataframe\n",
    "date_cols = [\"created_at\", \"deadline\", \"launched_at\", \"state_changed_at\"]\n",
    "for i in date_cols:\n",
    "    df_copy[i] = pd.to_datetime(df_copy[i],unit='s')\n",
    "\n",
    "df_copy[date_cols].head()"
   ]
  },
  {
   "cell_type": "code",
   "execution_count": null,
   "metadata": {},
   "outputs": [],
   "source": [
    "df_copy[date_cols].describe()"
   ]
  },
  {
   "cell_type": "markdown",
   "metadata": {},
   "source": [
    "#### Fix financial categories"
   ]
  },
  {
   "cell_type": "code",
   "execution_count": null,
   "metadata": {},
   "outputs": [],
   "source": [
    "# Round financial values to at most two decimal places\n",
    "money_cols = [\"converted_pledged_amount\", \"goal\", \"pledged\", \"usd_pledged\"]\n",
    "for i in money_cols:\n",
    "    df_copy = df_copy.round(2)\n",
    "\n",
    "df_copy[money_cols].head()"
   ]
  },
  {
   "cell_type": "markdown",
   "metadata": {},
   "source": [
    "### Tidiness: \n",
    "\n",
    "#### Feature Engineering - address tidiness issue of \"category\" variable by creating variables holding extracted values for main category and sub-category:"
   ]
  },
  {
   "cell_type": "code",
   "execution_count": null,
   "metadata": {},
   "outputs": [],
   "source": [
    "# View full string entries for \"category\" variable to gauge the complexity of category strings:\n",
    "df_copy['category'][15]"
   ]
  },
  {
   "cell_type": "code",
   "execution_count": null,
   "metadata": {},
   "outputs": [],
   "source": [
    "df_copy['category'][798]"
   ]
  },
  {
   "cell_type": "code",
   "execution_count": null,
   "metadata": {},
   "outputs": [],
   "source": [
    "# Extract product categories and sub-catgories from strings in \"category\" variable into their own columns in dataframe\n",
    "# (Used regular expression)\n",
    "\n",
    "import re  \n",
    "\n",
    "df_copy['main_cat'] = ''\n",
    "df_copy['sub_cat'] = ''\n",
    "\n",
    "for i in np.arange(df_copy.shape[0]):\n",
    "    match = re.findall('(([- &\\'\\\\\\\\]|\\w+)+)', df_copy['category'][i])\n",
    "    df_copy['main_cat'][i] = match[5][0].title()\n",
    "    df_copy['sub_cat'][i] = match[3][0].replace('\\\\','')"
   ]
  },
  {
   "cell_type": "code",
   "execution_count": null,
   "metadata": {},
   "outputs": [],
   "source": [
    "df_copy[['name','main_cat', 'sub_cat', 'category']].head() "
   ]
  },
  {
   "cell_type": "code",
   "execution_count": null,
   "metadata": {},
   "outputs": [],
   "source": [
    "df_copy.main_cat.value_counts()"
   ]
  },
  {
   "cell_type": "code",
   "execution_count": null,
   "metadata": {},
   "outputs": [],
   "source": [
    "df_copy.sub_cat.value_counts()"
   ]
  },
  {
   "cell_type": "markdown",
   "metadata": {},
   "source": [
    "#### Feature Engineering - address tidiness issue of \"location\" variable by creating variables holding extracted values for state, city, and type of city:"
   ]
  },
  {
   "cell_type": "code",
   "execution_count": null,
   "metadata": {},
   "outputs": [],
   "source": [
    "df_copy[df_copy.location.isnull()]"
   ]
  },
  {
   "cell_type": "code",
   "execution_count": null,
   "metadata": {},
   "outputs": [],
   "source": [
    "# View full string entry for \"location\" variable of third row entry to gauge the complexity of location strings:\n",
    "df_copy['location'][2]"
   ]
  },
  {
   "cell_type": "code",
   "execution_count": null,
   "metadata": {},
   "outputs": [],
   "source": [
    "# Extract product (country) states, cities, and city types from strings in \"location\" variable into their own columns in dataframe\n",
    "# (Used regular expression)\n",
    "\n",
    "df_copy['location_state'] = ''\n",
    "df_copy['location_city'] = ''\n",
    "df_copy['location_type'] = ''\n",
    "\n",
    "for i in np.arange(df_copy.shape[0]):\n",
    "    if pd.notna(df_copy.location[i]) == True:\n",
    "        match = re.findall('((?:[^\"]\\w+)+)', df_copy['location'][i])\n",
    "        df_copy['location_state'][i] = match[17]\n",
    "        df_copy['location_city'][i] = match[3]\n",
    "        df_copy['location_type'][i] = match[19]\n",
    "    else:\n",
    "        df_copy['location_state'][i] = 'NaN'\n",
    "        df_copy['location_city'][i] = 'NaN'\n",
    "        df_copy['location_type'][i] = 'NaN'\n",
    "    "
   ]
  },
  {
   "cell_type": "code",
   "execution_count": null,
   "metadata": {},
   "outputs": [],
   "source": [
    "df_copy[['name', 'country', 'location_state', 'location_city', 'location_type', 'location']][1930:1933]"
   ]
  },
  {
   "cell_type": "markdown",
   "metadata": {},
   "source": [
    "### What is the structure of your dataset?\n",
    "\n",
    "There are 3786 Kickstarter projects in this dataset, with a total of 37 features, some of which are untidy, and some of which are not of interest for my exploration. I have engineered a few categorical features (related to project ctegories and location) which may come to be useful for exploration. \n",
    "\n",
    "\n",
    "### What is/are the main feature(s) of interest in your dataset?\n",
    "\n",
    "I am interested in finding out which project qualities correlate with different types of project outcomes (or, the final \"state\" of the project). \n",
    "\n",
    "\n",
    "### What features in the dataset do you think will help support your investigation into your feature(s) of interest?\n",
    "\n",
    "I believe the following features could illuminate patterns in project outcomes:\n",
    "- Number of backers\n",
    "- Length of time project was open\n",
    "- Total money pledged (relative to funding goal)\n",
    "- Project category\n",
    "- Project location (country, city type)\n",
    "- If project was \"staff pick\""
   ]
  },
  {
   "cell_type": "code",
   "execution_count": null,
   "metadata": {},
   "outputs": [],
   "source": [
    "# Save wrangled dataframe to new CSV file to make future manipulating easier\n",
    "df_copy.to_csv('data_wrangled.csv', index=False)"
   ]
  },
  {
   "cell_type": "markdown",
   "metadata": {},
   "source": [
    "## Streamlining Wrangled Dataset \n",
    "\n",
    "### Removing extra variables, and engineering other potentially relevant features"
   ]
  },
  {
   "cell_type": "code",
   "execution_count": null,
   "metadata": {},
   "outputs": [],
   "source": [
    "# import all packages and set plots to be embedded inline\n",
    "import numpy as np\n",
    "import pandas as pd\n",
    "import matplotlib.pyplot as plt\n",
    "import seaborn as sb\n",
    "\n",
    "%matplotlib inline"
   ]
  },
  {
   "cell_type": "code",
   "execution_count": null,
   "metadata": {},
   "outputs": [],
   "source": [
    "# Import wrangled dataset\n",
    "df = pd.read_csv('data_wrangled.csv')\n",
    "pd.set_option('display.max_columns', None)\n",
    "df.head()"
   ]
  },
  {
   "cell_type": "code",
   "execution_count": null,
   "metadata": {},
   "outputs": [],
   "source": [
    "# Remove unnecessary variables\n",
    "df.drop(columns = ['category',\n",
    "                   'converted_pledged_amount',\n",
    "                   'creator',\n",
    "                   'currency_symbol',\n",
    "                   'currency_trailing_code',\n",
    "                   'current_currency',\n",
    "                   'disable_communication',\n",
    "                   'fx_rate',\n",
    "                   'location',\n",
    "                   'photo',\n",
    "                   'profile',\n",
    "                   'slug',\n",
    "                   'source_url',\n",
    "                   'static_usd_rate',\n",
    "                   'urls',\n",
    "                   'usd_type'],\n",
    "       inplace = True)\n",
    "df.head()"
   ]
  },
  {
   "cell_type": "markdown",
   "metadata": {},
   "source": [
    "#### Engineering features related to the time variables:\n",
    "\n",
    "- created_at\n",
    "- launched_at\n",
    "- deadline\n",
    "- state_changed_at\n",
    "\n",
    "Reference:\n",
    "\n",
    "http://www.datasciencemadesimple.com/difference-two-timestamps-seconds-minutes-hours-pandas-python-2/\n",
    "https://docs.scipy.org/doc/numpy/reference/arrays.datetime.html"
   ]
  },
  {
   "cell_type": "code",
   "execution_count": null,
   "metadata": {},
   "outputs": [],
   "source": [
    "# Confirm that time variables are of 'datetime64' type:\n",
    "date_cols = [\"created_at\", \"deadline\", \"launched_at\", \"state_changed_at\"]\n",
    "for i in date_cols:\n",
    "    df[i] = pd.to_datetime(df[i])\n",
    "\n",
    "df[date_cols].dtypes"
   ]
  },
  {
   "cell_type": "code",
   "execution_count": null,
   "metadata": {},
   "outputs": [],
   "source": [
    "import datetime\n",
    "from dateutil.relativedelta import relativedelta\n",
    "from datetime import date"
   ]
  },
  {
   "cell_type": "code",
   "execution_count": null,
   "metadata": {},
   "outputs": [],
   "source": [
    "# Calculate number of days it took to launch project: 'days_to_launch'\n",
    "# (days between project creation and project launch: 'launched_at' - 'created_at')\n",
    "\n",
    "df['days_to_launch'] = df['launched_at'] - df['created_at']\n",
    "df['days_to_launch']=df['days_to_launch']/np.timedelta64(1,'D')\n",
    "df.days_to_launch.head()"
   ]
  },
  {
   "cell_type": "code",
   "execution_count": null,
   "metadata": {},
   "outputs": [],
   "source": [
    "# Calculate number of days given for project to succeed: 'days_to_succeed'\n",
    "# (days between project launch and project deadline: 'deadline' - 'launched_at')\n",
    "\n",
    "df['days_to_succeed'] = df['deadline'] - df['launched_at']\n",
    "df['days_to_succeed']=df['days_to_succeed']/np.timedelta64(1,'D')\n",
    "df.days_to_succeed.head()"
   ]
  },
  {
   "cell_type": "code",
   "execution_count": null,
   "metadata": {},
   "outputs": [],
   "source": [
    "# Calculate number of days project was active (or reached its final 'state') : 'days_active'\n",
    "# (days between project launch and project deadline: 'state_changed_at' - 'launched_at')\n",
    "\n",
    "df['days_active'] = df['state_changed_at'] - df['launched_at']\n",
    "df['days_active']=df['days_active']/np.timedelta64(1,'D')\n",
    "df.days_active.head()"
   ]
  },
  {
   "cell_type": "code",
   "execution_count": null,
   "metadata": {},
   "outputs": [],
   "source": [
    "# Confirm whether final 'state' occurred before or after 'deadline': 'ended_early'\n",
    "# Faster code instead of for loops as per reference:\n",
    "# https://stackoverflow.com/questions/27041724/using-conditional-to-generate-new-column-in-pandas-dataframe)\n",
    "\n",
    "df['ended_early'] = np.where(df.days_active < df.days_to_succeed, True, False)"
   ]
  },
  {
   "cell_type": "code",
   "execution_count": null,
   "metadata": {},
   "outputs": [],
   "source": [
    "df[['days_to_succeed','days_active','ended_early']].head()"
   ]
  },
  {
   "cell_type": "markdown",
   "metadata": {},
   "source": [
    "#### Engineering Feature: proportion of project funding relative to goal"
   ]
  },
  {
   "cell_type": "code",
   "execution_count": null,
   "metadata": {},
   "outputs": [],
   "source": [
    "# Finding ratio of confirmed funds relative to funding goals: 'funded_prop'\n",
    "# ('pledged' / 'goal')\n",
    "\n",
    "df['funded_prop'] = df['pledged'] / df['goal']\n",
    "df.funded_prop.head()"
   ]
  },
  {
   "cell_type": "markdown",
   "metadata": {},
   "source": [
    "#### Save cleaner dataframe to new CSV file to make future manipulating easier"
   ]
  },
  {
   "cell_type": "code",
   "execution_count": null,
   "metadata": {},
   "outputs": [],
   "source": [
    "df.to_csv('data_cleaner.csv', index=False)"
   ]
  },
  {
   "cell_type": "markdown",
   "metadata": {},
   "source": [
    "## Univariate Exploration\n",
    "\n",
    "> In this section, investigate distributions of individual variables. If\n",
    "you see unusual points or outliers, take a deeper look to clean things up\n",
    "and prepare yourself to look at relationships between variables."
   ]
  },
  {
   "cell_type": "code",
   "execution_count": null,
   "metadata": {},
   "outputs": [],
   "source": [
    "# import all packages and set plots to be embedded inline\n",
    "import numpy as np\n",
    "import pandas as pd\n",
    "import matplotlib.pyplot as plt\n",
    "import seaborn as sb\n",
    "\n",
    "%matplotlib inline"
   ]
  },
  {
   "cell_type": "code",
   "execution_count": null,
   "metadata": {},
   "outputs": [],
   "source": [
    "# Import wrangled dataset\n",
    "df = pd.read_csv('data_cleaner.csv')\n",
    "pd.set_option('display.max_columns', None)\n",
    "df.head()"
   ]
  },
  {
   "cell_type": "code",
   "execution_count": null,
   "metadata": {},
   "outputs": [],
   "source": [
    "# Set color for charts:\n",
    "base_color = sb.color_palette()[0]"
   ]
  },
  {
   "cell_type": "markdown",
   "metadata": {},
   "source": [
    "### What's the distribution of project campaign 'states'?"
   ]
  },
  {
   "cell_type": "code",
   "execution_count": null,
   "metadata": {},
   "outputs": [],
   "source": [
    "sb.countplot(data = df, x = 'state', color = base_color);"
   ]
  },
  {
   "cell_type": "markdown",
   "metadata": {},
   "source": [
    "Looks like more projects succeeded than not."
   ]
  },
  {
   "cell_type": "markdown",
   "metadata": {},
   "source": [
    "### What's the proportion of campaigns that ended early?\n",
    "Plot 'ended_early' counts with proportion percentages over bars"
   ]
  },
  {
   "cell_type": "code",
   "execution_count": null,
   "metadata": {},
   "outputs": [],
   "source": [
    "# create the plot\n",
    "ax = sb.countplot(data = df, x = 'ended_early', color = base_color)\n",
    "\n",
    "# add annotations\n",
    "# Reference: https://stackoverflow.com/questions/31749448/how-to-add-percentages-on-top-of-bars-in-seaborn\n",
    "n_points = df.shape[0]\n",
    "for p in ax.patches:\n",
    "    height = p.get_height()\n",
    "    ax.text(p.get_x()+p.get_width()/2.,\n",
    "            height + 25,\n",
    "            '{:0.1f}%'.format(100*height/n_points),\n",
    "            ha = 'center')\n",
    "\n",
    "plt.show()"
   ]
  },
  {
   "cell_type": "markdown",
   "metadata": {},
   "source": [
    "#### Interjectionary Bivariate Exploration:\n",
    "\n",
    "A follow-up bivariate exploration is called for to see whether the different campaign 'states' have a split within them regarding if they ended early."
   ]
  },
  {
   "cell_type": "code",
   "execution_count": null,
   "metadata": {},
   "outputs": [],
   "source": [
    "# Reference:\n",
    "# https://stackoverflow.com/questions/33271098/python-get-a-frequency-count-based-on-two-columns-variables-in-pandas-datafra\n",
    "df.groupby(['state','ended_early']).size()"
   ]
  },
  {
   "cell_type": "code",
   "execution_count": null,
   "metadata": {},
   "outputs": [],
   "source": [
    "sb.countplot(data = df, x = 'state', hue = 'ended_early', palette = 'Blues');"
   ]
  },
  {
   "cell_type": "markdown",
   "metadata": {},
   "source": [
    "Since each project 'state' only has projects that EITHER ended early or didn't, there is no distribution of endings to be illustrated within each 'state'. We have learned and confirmed that, not surprisingly, all projects which were 'cancelled' or 'suspended' ended early, and all project campaigns that 'failed' or were 'successful' in reaching their funding goal were open until the end of their deadline.\n",
    "\n",
    "Since I care about whether projects are successful or not, and 'live' project campaigns are still in progress and have yet to be cancelled or suspended, I will continue working with the dataset which excludes project rows that have the state of 'live'."
   ]
  },
  {
   "cell_type": "markdown",
   "metadata": {},
   "source": [
    "### What's the proportion of campaigns that ended early - given a removal of 'live' projects?"
   ]
  },
  {
   "cell_type": "markdown",
   "metadata": {},
   "source": [
    "Plot 'ended_early' counts with proportion percentages over bars WHILE excluding 'live' projects - since they are still in progress and are skewing the chart.\n"
   ]
  },
  {
   "cell_type": "code",
   "execution_count": null,
   "metadata": {},
   "outputs": [],
   "source": [
    "# Isolate sub-dataset which excludes projects that are 'live':\n",
    "df_notlive = df[df['state']!='live']\n",
    "df_notlive.shape"
   ]
  },
  {
   "cell_type": "code",
   "execution_count": null,
   "metadata": {},
   "outputs": [],
   "source": [
    "# create the plot\n",
    "ax = sb.countplot(data = df_notlive, x = 'ended_early', color = base_color)\n",
    "\n",
    "# add annotations\n",
    "n_points = df_notlive.shape[0]\n",
    "for p in ax.patches:\n",
    "    height = p.get_height()\n",
    "    ax.text(p.get_x()+p.get_width()/2.,\n",
    "            height + 25,\n",
    "            '{:0.1f}%'.format(100*height/n_points),\n",
    "            ha = 'center')\n",
    "\n",
    "plt.show()"
   ]
  },
  {
   "cell_type": "markdown",
   "metadata": {},
   "source": [
    "This represents the proportion of projects which actually ended early: those which we know to have been cancelled or suspended."
   ]
  },
  {
   "cell_type": "markdown",
   "metadata": {},
   "source": [
    "### Check distribution of 'is_starrable' relative to project 'state':"
   ]
  },
  {
   "cell_type": "code",
   "execution_count": null,
   "metadata": {},
   "outputs": [],
   "source": [
    "df.groupby(['state','is_starrable']).size()"
   ]
  },
  {
   "cell_type": "markdown",
   "metadata": {},
   "source": [
    "Since 'is_starrable' is only true for projects that are 'live', and I am excluding the 'live' projects, we can also remove the 'is_starrable' feature."
   ]
  },
  {
   "cell_type": "code",
   "execution_count": null,
   "metadata": {},
   "outputs": [],
   "source": [
    "df_notlive = df_notlive.drop(columns = 'is_starrable')\n",
    "df_notlive.info()"
   ]
  },
  {
   "cell_type": "markdown",
   "metadata": {},
   "source": [
    "### What's the distribution of the number of backers per project?"
   ]
  },
  {
   "cell_type": "code",
   "execution_count": null,
   "metadata": {},
   "outputs": [],
   "source": [
    "binsize = 50\n",
    "bins = np.arange(0, df_notlive['backers_count'].max()+binsize, binsize)\n",
    "\n",
    "plt.figure(figsize=[8, 5])\n",
    "plt.hist(data = df_notlive, x = 'backers_count', bins = bins)\n",
    "plt.xlabel('Number of Backers')\n",
    "plt.ylabel('Number of Projects')\n",
    "plt.show();"
   ]
  },
  {
   "cell_type": "markdown",
   "metadata": {},
   "source": [
    "Looks like there is a VERY wide distribution of backers, skewed by many projects having zero or few backers, and a few outlier projects with thousands of backers.\n",
    "\n",
    "#### Let's zoom in a little:"
   ]
  },
  {
   "cell_type": "code",
   "execution_count": null,
   "metadata": {},
   "outputs": [],
   "source": [
    "binsize = 5\n",
    "bins = np.arange(5, 500+binsize, binsize)\n",
    "\n",
    "plt.figure(figsize=[8, 5])\n",
    "plt.hist(data = df_notlive, x = 'backers_count', bins = bins)\n",
    "plt.xlabel('Number of Backers')\n",
    "plt.ylabel('Number of Projects')\n",
    "plt.show();"
   ]
  },
  {
   "cell_type": "markdown",
   "metadata": {},
   "source": [
    "#### Since there's a long tail in the distribution, let's put it on a log scale instead (thus exclusive of campaigns with no backers):"
   ]
  },
  {
   "cell_type": "code",
   "execution_count": null,
   "metadata": {},
   "outputs": [],
   "source": [
    "log_binsize = 0.1\n",
    "bins = 10 ** np.arange(0, np.log10(df_notlive['backers_count'].max())+log_binsize, log_binsize)\n",
    "\n",
    "plt.figure(figsize=[8, 5])\n",
    "plt.hist(data = df_notlive, x = 'backers_count', bins = bins)\n",
    "plt.xscale('log')\n",
    "plt.xticks([1, 3, 10, 30, 100, 300, 1e3, 3e3, 1e4, 3e4], [1, 3, 10, 30, 100, 300, '1k', '3k', '10k', '30k'])\n",
    "plt.xlabel('Number of Backers')\n",
    "plt.ylabel('Number of Projects')\n",
    "plt.show();"
   ]
  },
  {
   "cell_type": "markdown",
   "metadata": {},
   "source": [
    "There still appears to be an exponential tail, but at least it is a little more constrained under the log transformation. The log transformation illustrates a bimodal distribution - around 0 to 1 backers, and around 40 to 60 backers."
   ]
  },
  {
   "cell_type": "markdown",
   "metadata": {},
   "source": [
    "#### Let's see how many campaigns had fewer than 10 backers:"
   ]
  },
  {
   "cell_type": "code",
   "execution_count": null,
   "metadata": {},
   "outputs": [],
   "source": [
    "# Plot countplot that illustrates how many projects have fewer than 10 backers:\n",
    "\n",
    "plt.figure(figsize=[8, 5])\n",
    "ax = sb.countplot(data = df_notlive, x = 'backers_count', color = base_color)\n",
    "plt.xlabel('Number of Backers')\n",
    "plt.ylabel('Number of Projects')\n",
    "plt.xlim(-0.5,9.5)\n",
    "plt.ylim(0,350)\n",
    "\n",
    "# add annotations\n",
    "for p in ax.patches[0:10]:\n",
    "    height = p.get_height()\n",
    "    ax.text(p.get_x()+p.get_width()/2.,\n",
    "            height + 3,\n",
    "            '{:.0f}'.format(height),\n",
    "            ha = 'center')\n",
    "\n",
    "plt.show()"
   ]
  },
  {
   "cell_type": "markdown",
   "metadata": {},
   "source": [
    "Nearly 1/11 projects had 0 backers. Over one quarter of projects had 5 or fewer backers."
   ]
  },
  {
   "cell_type": "markdown",
   "metadata": {},
   "source": [
    "A follow-up bivariate exploration would be a comparison of the number of backers relative to successful and unsuccessful projects."
   ]
  },
  {
   "cell_type": "markdown",
   "metadata": {},
   "source": [
    "### What's the distribution of location type?"
   ]
  },
  {
   "cell_type": "code",
   "execution_count": null,
   "metadata": {},
   "outputs": [],
   "source": [
    "sb.countplot(data = df_notlive, y = 'location_type', color = base_color);"
   ]
  },
  {
   "cell_type": "markdown",
   "metadata": {},
   "source": [
    "Looks like I extracted that information incorrectly. However, even if I had, it's almost useless given the fairly little diversity in distribution of the location type, with the vast majority of projects being in towns. At least we've learned that much."
   ]
  },
  {
   "cell_type": "markdown",
   "metadata": {},
   "source": [
    "### What's the distribution of campaign countries?"
   ]
  },
  {
   "cell_type": "code",
   "execution_count": null,
   "metadata": {},
   "outputs": [],
   "source": [
    "sb.countplot(data = df_notlive, y = 'country', color = base_color, order = df_notlive.country.value_counts().index);"
   ]
  },
  {
   "cell_type": "markdown",
   "metadata": {},
   "source": [
    "The vast majority of project campaigns are based in the US, followed by other English-speaking countries. There is some visible representation from Northern Europe, Mexico, Western Europe, and Hong Kong."
   ]
  },
  {
   "cell_type": "markdown",
   "metadata": {},
   "source": [
    "### What's the distribution of proportion of goal funded?"
   ]
  },
  {
   "cell_type": "code",
   "execution_count": null,
   "metadata": {},
   "outputs": [],
   "source": [
    "df_notlive.funded_prop.describe()"
   ]
  },
  {
   "cell_type": "code",
   "execution_count": null,
   "metadata": {},
   "outputs": [],
   "source": [
    "sb.boxplot(data = df_notlive, x = 'funded_prop', color = base_color);"
   ]
  },
  {
   "cell_type": "code",
   "execution_count": null,
   "metadata": {},
   "outputs": [],
   "source": [
    "over_funded = df_notlive[df_notlive.funded_prop > \n",
    "                         df_notlive.funded_prop.quantile(.99)][['goal',\n",
    "                                                                'pledged',\n",
    "                                                                'funded_prop']].sort_values('funded_prop')\n",
    "print(over_funded.shape)\n",
    "print(over_funded)"
   ]
  },
  {
   "cell_type": "markdown",
   "metadata": {},
   "source": [
    "Looks like some campaigns had quite the funding success: those past the 99th percentile had received more than 18.7 times their goal. In some cases the project's funding proportion was severely greater due to having a campaign goal as low as several hundred dollars - sometimes even ONLY $1."
   ]
  },
  {
   "cell_type": "markdown",
   "metadata": {},
   "source": [
    "#### Let's zoom in on the boxplot:"
   ]
  },
  {
   "cell_type": "code",
   "execution_count": null,
   "metadata": {},
   "outputs": [],
   "source": [
    "sb.boxplot(data = df_notlive, x = 'funded_prop', color = base_color);\n",
    "plt.xlim(-.5,5);"
   ]
  },
  {
   "cell_type": "markdown",
   "metadata": {},
   "source": [
    "#### To see the distribution a bit better, we can employ a histogram:"
   ]
  },
  {
   "cell_type": "code",
   "execution_count": null,
   "metadata": {},
   "outputs": [],
   "source": [
    "binsize = 0.1\n",
    "bins = np.arange(0, 5+binsize, binsize)\n",
    "\n",
    "plt.figure(figsize=[8, 5])\n",
    "plt.hist(data = df_notlive, x = 'funded_prop', bins = bins)\n",
    "plt.xlabel('Final Funding as Proportion of Goal')\n",
    "plt.ylabel('Number of Projects')\n",
    "plt.show()"
   ]
  },
  {
   "cell_type": "markdown",
   "metadata": {},
   "source": [
    "The distribution of proportion of funding goal met is exponential and bimodal - at 0 (or nearly 0, for those campaigns which received nothing or nearly nothing), and at 1 (representing campaigns that met their goal or even surpassed it by a little bit)."
   ]
  },
  {
   "cell_type": "markdown",
   "metadata": {},
   "source": [
    "#### What does the area between 0 and 1 look like, when log transformed? This will be exclusive of campaigns that had funding proportions of 0 or 1:"
   ]
  },
  {
   "cell_type": "code",
   "execution_count": null,
   "metadata": {},
   "outputs": [],
   "source": [
    "log_binsize = 0.1\n",
    "bins = 10 ** np.arange(-3, np.log10(0.99)+log_binsize, log_binsize)\n",
    "\n",
    "plt.figure(figsize=[8, 5])\n",
    "plt.hist(data = df_notlive, x = 'funded_prop', bins = bins)\n",
    "plt.xscale('log')\n",
    "plt.xticks([0.001, 0.003, 0.01, 0.03, 0.1, 0.3, 1], [0.001, 0.003, 0.01, 0.03, 0.1, 0.3, 1])\n",
    "plt.xlabel('Final Funding as Proportion of Goal')\n",
    "plt.ylabel('Number of Projects')\n",
    "plt.show();"
   ]
  },
  {
   "cell_type": "markdown",
   "metadata": {},
   "source": [
    "There appears to be a good quantity of campaigns that didn't meet their goal, but still had some funding."
   ]
  },
  {
   "cell_type": "markdown",
   "metadata": {},
   "source": [
    "#### What does the distribution between the median and 75th percentile look like?"
   ]
  },
  {
   "cell_type": "code",
   "execution_count": null,
   "metadata": {},
   "outputs": [],
   "source": [
    "binsize = 0.005\n",
    "bins = np.arange(df_notlive.funded_prop.median(),\n",
    "                 df_notlive.funded_prop.quantile(.75)+binsize, binsize)\n",
    "\n",
    "plt.figure(figsize=[8, 5])\n",
    "plt.hist(data = df_notlive, x = 'funded_prop', bins = bins)\n",
    "plt.xlabel('Final Funding as Proportion of Goal')\n",
    "plt.ylabel('Number of Projects')\n",
    "plt.show();"
   ]
  },
  {
   "cell_type": "markdown",
   "metadata": {},
   "source": [
    "## Bivariate Exploration"
   ]
  },
  {
   "cell_type": "markdown",
   "metadata": {},
   "source": [
    "### Exploring Sample-Based Correlations of Continuous Quantitative Variables:"
   ]
  },
  {
   "cell_type": "code",
   "execution_count": null,
   "metadata": {},
   "outputs": [],
   "source": [
    "# plot matrix: sample 500 projects so that plots are clearer and render faster\n",
    "samples = np.random.choice(df_notlive.shape[0], 500, replace = False)\n",
    "df_samp = df_notlive.reindex(samples)\n",
    "\n",
    "g = sb.PairGrid(data = df_samp, vars = ['backers_count',\n",
    "                                        'goal',\n",
    "                                        'funded_prop', \n",
    "                                        'days_to_launch',\n",
    "                                        'days_to_succeed',])\n",
    "g = g.map_diag(plt.hist, bins = 50);\n",
    "g.map_offdiag(plt.scatter);"
   ]
  },
  {
   "cell_type": "markdown",
   "metadata": {},
   "source": [
    "Nothing too apparent stands out. Most distributions are just reflective of the independent variable's distribution (i.e. backers_count vs days_to_launch resembles the distribution of days_to_launch)."
   ]
  },
  {
   "cell_type": "markdown",
   "metadata": {},
   "source": [
    "### Check distribution of success of projects split by 'main_cat'"
   ]
  },
  {
   "cell_type": "code",
   "execution_count": null,
   "metadata": {},
   "outputs": [],
   "source": [
    "df_notlive['successful'] = np.where(df_notlive.state == 'successful', True, False)"
   ]
  },
  {
   "cell_type": "code",
   "execution_count": null,
   "metadata": {},
   "outputs": [],
   "source": [
    "df_notlive[['name','state','successful']].head()"
   ]
  },
  {
   "cell_type": "code",
   "execution_count": null,
   "metadata": {},
   "outputs": [],
   "source": [
    "plt.figure(figsize=[15, 5])\n",
    "ax = sb.countplot(data = df_notlive, x = 'main_cat', hue = 'successful', \n",
    "                  order= df_notlive['main_cat'].value_counts().index);\n",
    "loc, labels = plt.xticks()\n",
    "ax.set_xticklabels(labels, rotation=45);\n",
    "\n",
    "n_points = df_notlive['main_cat'].value_counts()\n",
    "i=0\n",
    "for p in ax.patches:\n",
    "    if i >= 15:\n",
    "        i = 0\n",
    "        height = p.get_height()\n",
    "        ax.text(p.get_x()+p.get_width()/2., height + 5, '{:.2f}'.format(height/n_points[i]),\n",
    "                ha = 'center')\n",
    "        i += 1\n",
    "    else:\n",
    "        height = p.get_height()\n",
    "        ax.text(p.get_x()+p.get_width()/2., height + 5, '{:.2f}'.format(height/n_points[i]),\n",
    "                ha = 'center')\n",
    "        i +=1\n",
    "plt.show;"
   ]
  },
  {
   "cell_type": "markdown",
   "metadata": {},
   "source": [
    "Looks like some categories are very common and successful for Kickstarter campaigns: Music, Technology, Publishing, and Theater. However, even some less common categories have relatively similar success rates, if not better: Comics, Fashion, Film & Video, Art, Photography. A few that are less successful are Food, Crafts, Dance, Games, Design, Journalism."
   ]
  },
  {
   "cell_type": "markdown",
   "metadata": {},
   "source": [
    "### Check distribution of success of projects among those with the fewest backers:"
   ]
  },
  {
   "cell_type": "code",
   "execution_count": null,
   "metadata": {},
   "outputs": [],
   "source": [
    "# Plot countplot that illustrates how many projects have fewer than 10 backers,\n",
    "# split by whether or not they were successful:\n",
    "\n",
    "plt.figure(figsize=[8, 5])\n",
    "ax = sb.countplot(data = df_notlive, x = 'backers_count', \n",
    "                  hue = 'successful')\n",
    "plt.xlabel('Number of Backers')\n",
    "plt.ylabel('Number of Projects')\n",
    "plt.xlim(-0.5,9.5)\n",
    "plt.ylim(0,350)\n",
    "\n",
    "# add annotations\n",
    "\n",
    "for p in ax.patches[0:10]:\n",
    "    height = p.get_height()\n",
    "    ax.text(p.get_x()+p.get_width()/2.,\n",
    "            height + 3,\n",
    "            '{:.0f}'.format(height),\n",
    "            ha = 'center')\n",
    "    \n",
    "mid_patch = int(len(ax.patches)/2)\n",
    "mid_patch10 = int(len(ax.patches)/2+10)\n",
    "for p in ax.patches[mid_patch:mid_patch10]:\n",
    "    height = p.get_height()\n",
    "    ax.text(p.get_x()+p.get_width()/2.,\n",
    "            height + 3,\n",
    "            '{:.0f}'.format(height),\n",
    "            ha = 'center')\n",
    "\n",
    "plt.show();"
   ]
  },
  {
   "cell_type": "markdown",
   "metadata": {},
   "source": [
    "Looks like starting at 9 contributors, campaigns may have more than a 50% chance of succeeding."
   ]
  },
  {
   "cell_type": "markdown",
   "metadata": {},
   "source": [
    "### Check distribution of state of projects relative to them being a Staff Pick:"
   ]
  },
  {
   "cell_type": "code",
   "execution_count": null,
   "metadata": {},
   "outputs": [],
   "source": [
    "ax = sb.countplot(data = df_notlive, x = 'state', hue = 'staff_pick', \n",
    "                  order = df_notlive['state'].value_counts().index)\n",
    "\n",
    "# add annotations\n",
    "n_points = df_notlive['state'].value_counts()\n",
    "i=0\n",
    "for p in ax.patches[0:7]:\n",
    "    if i >= 4:\n",
    "        i = 0\n",
    "        height = p.get_height()\n",
    "        ax.text(p.get_x()+p.get_width()/2.,\n",
    "                height + 5,\n",
    "                '{:.2f}'.format(height/n_points[i]),\n",
    "                ha = 'center')\n",
    "        i += 1\n",
    "    else:\n",
    "        height = p.get_height()\n",
    "        ax.text(p.get_x()+p.get_width()/2.,\n",
    "                height + 5,\n",
    "                '{:.2f}'.format(height/n_points[i]),\n",
    "                ha = 'center')\n",
    "        i +=1\n",
    "        \n",
    "plt.show();"
   ]
  },
  {
   "cell_type": "code",
   "execution_count": null,
   "metadata": {},
   "outputs": [],
   "source": [
    "# Reference: https://towardsdatascience.com/building-a-logistic-regression-in-python-step-by-step-becd4d56c9c8\n",
    "table=pd.crosstab(df_notlive.state,df_notlive.staff_pick)\n",
    "table.div(table.sum(1).astype(float), axis=0).plot(kind='bar', stacked=True)\n",
    "plt.title('Stacked Bar Chart of State vs Staff Pick')\n",
    "plt.xlabel('State of Campaign')\n",
    "plt.ylabel('Proportion of Campaigns');"
   ]
  },
  {
   "cell_type": "markdown",
   "metadata": {},
   "source": [
    "Almost a fifth of successful campaigns were Staff Picks. However, being a Staff Pick does not guarantee success, as can be seen by the 4% of failed campaigns and 6% of canceled campaigns being Staff Picks."
   ]
  },
  {
   "cell_type": "code",
   "execution_count": null,
   "metadata": {},
   "outputs": [],
   "source": [
    "# Reference: https://towardsdatascience.com/building-a-logistic-regression-in-python-step-by-step-becd4d56c9c8\n",
    "table=pd.crosstab(df_notlive.staff_pick,df_notlive.state)\n",
    "table.div(table.sum(1).astype(float), axis=0).plot(kind='bar', stacked=True)\n",
    "plt.title('Stacked Bar Chart of Staff Pick vs State of Campaign')\n",
    "plt.xlabel('Staff Pick')\n",
    "plt.ylabel('Proportion of Campaigns');"
   ]
  },
  {
   "cell_type": "markdown",
   "metadata": {},
   "source": [
    "Based on this last bar chart, it appears that campaigns that were selected as Staff Pick were more likely to succeed. "
   ]
  },
  {
   "cell_type": "markdown",
   "metadata": {},
   "source": [
    "### Compare differences in mean values for various variables among Main Project Categories:"
   ]
  },
  {
   "cell_type": "code",
   "execution_count": null,
   "metadata": {},
   "outputs": [],
   "source": [
    "var = ['successful','funded_prop','backers_count','staff_pick','main_cat']\n",
    "df_notlive[var].groupby('main_cat').mean().sort_values('funded_prop')"
   ]
  },
  {
   "cell_type": "code",
   "execution_count": null,
   "metadata": {},
   "outputs": [],
   "source": []
  },
  {
   "cell_type": "markdown",
   "metadata": {},
   "source": [
    "### Check distribution of Main Project Categories relative to their proportion of being funded:"
   ]
  },
  {
   "cell_type": "code",
   "execution_count": null,
   "metadata": {},
   "outputs": [],
   "source": [
    "plt.figure(figsize=[15, 10])\n",
    "ax = sb.boxplot(x='main_cat', y='funded_prop', data=df_notlive, color=base_color, order = df_notlive['main_cat'].value_counts().index)\n",
    "loc, labels = plt.xticks()\n",
    "ax.set_xticklabels(labels, rotation=45);\n",
    "plt.ylim(-0.25,7);"
   ]
  },
  {
   "cell_type": "markdown",
   "metadata": {},
   "source": [
    "Looking at the median point for the boxplots relative to the \"1\" point on the y-axis, we can see the proportion of projects within each Main Category which met their goal or didn't. Since meeting one's funding goal (getting at least \"1\" for the funding proportion) defines a Kickstarter campaign success, we can see whether a majority of campaigns succeeded or failed."
   ]
  },
  {
   "cell_type": "markdown",
   "metadata": {},
   "source": [
    "### Compare differences in median values for various variables among Main Project Categories:"
   ]
  },
  {
   "cell_type": "code",
   "execution_count": null,
   "metadata": {},
   "outputs": [],
   "source": [
    "df_notlive['avg_donation'] = df_notlive['usd_pledged'] / df_notlive['backers_count']\n",
    "df_notlive['avg_donation'] = df_notlive['avg_donation'].fillna(0)\n",
    "\n",
    "var = ['successful','funded_prop','avg_donation','backers_count','staff_pick','main_cat']\n",
    "df_notlive[var].groupby('main_cat').median().sort_values('avg_donation')"
   ]
  },
  {
   "cell_type": "markdown",
   "metadata": {},
   "source": [
    "Here we confirmed that Crafts, Food, Dance, Games, and even Design are categories that have difficulty getting more than half of their projects funded. For Crafts, Food, and Dance, it appears that a low backer count is a contributing factor."
   ]
  },
  {
   "cell_type": "markdown",
   "metadata": {},
   "source": [
    "We can explore even further within a Main Category - to see the boxplot distributions of their Subcategories. For instance, let's take Technology:"
   ]
  },
  {
   "cell_type": "markdown",
   "metadata": {},
   "source": [
    "### Check distribution of Technology Project Subcategories relative to their proportion of being funded:"
   ]
  },
  {
   "cell_type": "code",
   "execution_count": null,
   "metadata": {},
   "outputs": [],
   "source": [
    "df_sub_tech = df_notlive[df_notlive['main_cat']=='Technology'].copy()\n",
    "\n",
    "plt.figure(figsize=[15, 15])\n",
    "ax = sb.boxplot(x='sub_cat', y='funded_prop', data=df_sub_tech, color=base_color, order = df_sub_tech['sub_cat'].value_counts().index)\n",
    "plt.yticks([1,2,3,4,5,6,7,8,9,10,11,12,13], [1,2,3,4,5,6,7,8,9,10,11,12,13])\n",
    "loc, labels = plt.xticks()\n",
    "ax.set_xticklabels(labels, rotation=45);\n",
    "plt.ylim(-0.25,13);"
   ]
  },
  {
   "cell_type": "markdown",
   "metadata": {},
   "source": [
    "Here we can see that not all technology subcategories are equally successful. Those subcategories which appear to acquire much more funding than requested (and have more than 75% of projects meeting goals) include Gadgets, DIY Electronics, Technology (a bit vague, no?), Sound, and 3D Printing. Apps, Web, Makerspaces, and Space Exploration also have the majority (if not all) of their projects being successful, however not by the same margins. The subcategories which are more likely to not meet their goals are Wearables, Software, Fabrication Tools, and Flight."
   ]
  },
  {
   "cell_type": "code",
   "execution_count": null,
   "metadata": {},
   "outputs": [],
   "source": [
    "var = ['successful','funded_prop','backers_count','staff_pick','sub_cat']\n",
    "df_sub_tech[var].groupby('sub_cat').mean().sort_values('funded_prop')"
   ]
  },
  {
   "cell_type": "markdown",
   "metadata": {},
   "source": [
    "## Multivariate Exploration"
   ]
  },
  {
   "cell_type": "markdown",
   "metadata": {},
   "source": [
    "### Explore spread of projects by their Final State, relative to Proportion of Goal Funded and Number of Backers:"
   ]
  },
  {
   "cell_type": "code",
   "execution_count": null,
   "metadata": {},
   "outputs": [],
   "source": [
    "sb.pairplot(x_vars=['funded_prop'], y_vars=['backers_count'], data=df_notlive, hue = 'state', height = 6);\n",
    "plt.xlim([0,50]);\n",
    "plt.ylim([0,12000]);"
   ]
  },
  {
   "cell_type": "markdown",
   "metadata": {},
   "source": [
    "#### Let's zoom in:"
   ]
  },
  {
   "cell_type": "code",
   "execution_count": null,
   "metadata": {},
   "outputs": [],
   "source": [
    "sb.pairplot(x_vars=['funded_prop'], y_vars=['backers_count'], data=df_notlive, hue = 'state', height = 6);\n",
    "plt.xlim([0,4]);\n",
    "plt.ylim([0,1800]);"
   ]
  },
  {
   "cell_type": "markdown",
   "metadata": {},
   "source": [
    "This displays what is fairly expected: campaigns that met or exceeded their goal (proportion funded >= 1) are successful. Those that were not able to do so are not."
   ]
  },
  {
   "cell_type": "markdown",
   "metadata": {},
   "source": [
    "### Explore spread of Technology projects by their Success, relative to Average Donation and Number of Backers:"
   ]
  },
  {
   "cell_type": "code",
   "execution_count": null,
   "metadata": {},
   "outputs": [],
   "source": [
    "g = sb.pairplot(x_vars=['avg_donation'], y_vars=['backers_count'], \n",
    "                data=df_notlive[df_notlive['main_cat']=='Technology'], \n",
    "                hue = 'successful', height = 6);\n",
    "plt.xlim([0,500]);\n",
    "plt.ylim([0,1200]);\n",
    "plt.show();"
   ]
  },
  {
   "cell_type": "markdown",
   "metadata": {},
   "source": [
    "### Explore spread of Game projects by their Success, relative to Average Donation and Number of Backers:"
   ]
  },
  {
   "cell_type": "code",
   "execution_count": null,
   "metadata": {},
   "outputs": [],
   "source": [
    "\n",
    "g = sb.pairplot(x_vars=['avg_donation'], y_vars=['backers_count'], \n",
    "                data=df_notlive[df_notlive['main_cat']=='Games'], \n",
    "                hue = 'successful', height = 6);\n",
    "plt.xlim([0,200]);\n",
    "plt.ylim([0,600]);\n",
    "plt.show();"
   ]
  },
  {
   "cell_type": "markdown",
   "metadata": {},
   "source": [
    "## Conduct Logistic Regression:"
   ]
  },
  {
   "cell_type": "markdown",
   "metadata": {},
   "source": [
    "#### Assessing affect on success by Staff Pick, number of backers, and average donations."
   ]
  },
  {
   "cell_type": "code",
   "execution_count": null,
   "metadata": {},
   "outputs": [],
   "source": [
    "df_notlive[['successful_f','successful_t']] = pd.get_dummies(df_notlive['successful'])\n",
    "df_notlive[['staff_pick_f','staff_pick_t']] = pd.get_dummies(df_notlive['staff_pick'])\n",
    "\n",
    "import statsmodels.api as sm\n",
    "df_notlive['intercept'] = 1\n",
    "logit_mod = sm.Logit(df_notlive['successful_t'], df_notlive[['intercept', 'backers_count', 'avg_donation','staff_pick_t']])\n",
    "results = logit_mod.fit()\n",
    "results.summary()"
   ]
  },
  {
   "cell_type": "code",
   "execution_count": null,
   "metadata": {},
   "outputs": [],
   "source": [
    "np.exp(0.0360)"
   ]
  },
  {
   "cell_type": "code",
   "execution_count": null,
   "metadata": {},
   "outputs": [],
   "source": [
    "np.exp(0.0021)"
   ]
  },
  {
   "cell_type": "markdown",
   "metadata": {},
   "source": [
    "For each one additional backer, success is 1.037 times as likely holding all else constant.\n",
    "\n",
    "For each additional dollar in an average donation, success is 1.0021 times as likely holding all else constant.\n",
    "\n",
    "Staff Pick is not a statistically significant predictor of project success"
   ]
  },
  {
   "cell_type": "code",
   "execution_count": null,
   "metadata": {},
   "outputs": [],
   "source": [
    "df_notlive.to_csv('final_dataset.csv')"
   ]
  }
 ],
 "metadata": {
  "kernelspec": {
   "display_name": "Python 3",
   "language": "python",
   "name": "python3"
  },
  "language_info": {
   "codemirror_mode": {
    "name": "ipython",
    "version": 3
   },
   "file_extension": ".py",
   "mimetype": "text/x-python",
   "name": "python",
   "nbconvert_exporter": "python",
   "pygments_lexer": "ipython3",
   "version": "3.7.3"
  }
 },
 "nbformat": 4,
 "nbformat_minor": 2
}
